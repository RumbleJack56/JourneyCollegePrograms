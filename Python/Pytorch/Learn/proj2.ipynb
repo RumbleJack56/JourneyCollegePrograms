{
 "cells": [
  {
   "cell_type": "code",
   "execution_count": 1,
   "metadata": {},
   "outputs": [],
   "source": [
    "import cv2\n",
    "import torch\n",
    "import torchvision\n",
    "from PIL import Image\n",
    "torch.device = \"cuda\""
   ]
  },
  {
   "cell_type": "code",
   "execution_count": 2,
   "metadata": {},
   "outputs": [],
   "source": [
    "img = cv2.imread(\"1.jpg\")\n"
   ]
  },
  {
   "cell_type": "code",
   "execution_count": 29,
   "metadata": {},
   "outputs": [],
   "source": [
    "cv2.imshow(\"13\",img)\n",
    "cv2.waitKey(0)\n",
    "cv2.destroyAllWindows()"
   ]
  },
  {
   "cell_type": "code",
   "execution_count": 5,
   "metadata": {},
   "outputs": [
    {
     "name": "stdout",
     "output_type": "stream",
     "text": [
      "torch.Size([640, 640, 3])\n",
      "3\n"
     ]
    }
   ],
   "source": [
    "\n",
    "rgbimg = cv2.cvtColor(img,cv2.COLOR_BGR2RGB)\n",
    "imgtensor = torch.IntTensor(rgbimg)\n",
    "print(imgtensor.shape)\n",
    "print(imgtensor.ndim)"
   ]
  },
  {
   "cell_type": "code",
   "execution_count": 3,
   "metadata": {},
   "outputs": [
    {
     "name": "stdout",
     "output_type": "stream",
     "text": [
      "False\n",
      "0\n",
      "None\n"
     ]
    },
    {
     "data": {
      "text/plain": [
       "[0, 1, 2, 3, 4, 5, 6, 7, 8, 9]"
      ]
     },
     "execution_count": 3,
     "metadata": {},
     "output_type": "execute_result"
    }
   ],
   "source": [
    "print(torch.cuda.is_available())\n",
    "print(torch.cuda.device_count())\n",
    "print(torch.cuda_version)\n",
    "[x for x in range(10)]"
   ]
  },
  {
   "cell_type": "code",
   "execution_count": 5,
   "metadata": {},
   "outputs": [
    {
     "name": "stdout",
     "output_type": "stream",
     "text": [
      "tensor([ 1.,  8., 15., 22.], dtype=torch.float16)\n",
      "tensor([1047483648, 1047483628, 1047483638,         12], dtype=torch.int32)\n",
      "tensor([ 4, 16, 28, 40], dtype=torch.int32)\n",
      "tensor([ inf,  inf,  inf, 264.], dtype=torch.float16)\n",
      "tensor([  4., 128., 420., 880.], dtype=torch.float16)\n"
     ]
    }
   ],
   "source": [
    "t1 = torch.tensor([x for x in range(1,23,7)],dtype=torch.float16)\n",
    "t2 = torch.tensor([1047483648,1047483628,1047483638,12],dtype=torch.int32)\n",
    "t3 = torch.tensor([x for x in range(4,41,12)],dtype=torch.int32)\n",
    "print(t1)\n",
    "print(t2)\n",
    "print(t3)\n",
    "print(t1 * t2)\n",
    "print(t1 * t3)\n"
   ]
  },
  {
   "cell_type": "code",
   "execution_count": 9,
   "metadata": {},
   "outputs": [
    {
     "ename": "NameError",
     "evalue": "name 'T' is not defined",
     "output_type": "error",
     "traceback": [
      "\u001b[1;31m---------------------------------------------------------------------------\u001b[0m",
      "\u001b[1;31mNameError\u001b[0m                                 Traceback (most recent call last)",
      "Cell \u001b[1;32mIn[9], line 2\u001b[0m\n\u001b[0;32m      1\u001b[0m rantense \u001b[39m=\u001b[39m torch\u001b[39m.\u001b[39mmul(torch\u001b[39m.\u001b[39mrand(size\u001b[39m=\u001b[39m(\u001b[39m3\u001b[39m,\u001b[39m10\u001b[39m,\u001b[39m10\u001b[39m)),\u001b[39m255\u001b[39m)\u001b[39m.\u001b[39mtype(dtype\u001b[39m=\u001b[39mtorch\u001b[39m.\u001b[39mint32)\n\u001b[1;32m----> 2\u001b[0m transform \u001b[39m=\u001b[39m T\u001b[39m.\u001b[39mToPILImage()\n\u001b[0;32m      3\u001b[0m tenseimg \u001b[39m=\u001b[39m transform(rantense)\n\u001b[0;32m      4\u001b[0m tenseimg\u001b[39m.\u001b[39mshow()\n",
      "\u001b[1;31mNameError\u001b[0m: name 'T' is not defined"
     ]
    }
   ],
   "source": [
    "rantense = torch.mul(torch.rand(size=(3,10,10)),255).type(dtype=torch.int32)\n",
    "transform = Tvt.ToPILImage()\n",
    "tenseimg = transform(rantense)\n",
    "tenseimg.show()\n",
    "rantense"
   ]
  },
  {
   "cell_type": "code",
   "execution_count": null,
   "metadata": {},
   "outputs": [],
   "source": []
  },
  {
   "cell_type": "code",
   "execution_count": null,
   "metadata": {},
   "outputs": [],
   "source": []
  }
 ],
 "metadata": {
  "kernelspec": {
   "display_name": "Python 3",
   "language": "python",
   "name": "python3"
  },
  "language_info": {
   "codemirror_mode": {
    "name": "ipython",
    "version": 3
   },
   "file_extension": ".py",
   "mimetype": "text/x-python",
   "name": "python",
   "nbconvert_exporter": "python",
   "pygments_lexer": "ipython3",
   "version": "3.9.2"
  },
  "orig_nbformat": 4
 },
 "nbformat": 4,
 "nbformat_minor": 2
}
