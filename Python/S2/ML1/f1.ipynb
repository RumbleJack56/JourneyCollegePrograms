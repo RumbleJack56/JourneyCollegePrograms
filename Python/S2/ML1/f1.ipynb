{
 "cells": [
  {
   "cell_type": "markdown",
   "metadata": {},
   "source": [
    "## Machine Learning Classroom\n",
    "This is my copy of the jupyter notebook that will contain my work for the machine learning lab\n",
    "\n",
    "Machine learning is my personal hobby and this class is a basic introduction, so most of my projects will be a better implementation and practice of programming and revision of implememnting the various concepts of basic machine learning technologies.\n",
    "\n",
    "The syllabus covered "
   ]
  },
  {
   "cell_type": "markdown",
   "metadata": {},
   "source": [
    "### **Day 1 : Introduction and Python Basics**"
   ]
  },
  {
   "cell_type": "code",
   "execution_count": null,
   "metadata": {},
   "outputs": [],
   "source": [
    "#Program 1\n",
    "def main():\n",
    "  userName = \"Ujjwal Kakar\"\n",
    "  print(f\"My name is {userName}\")\n",
    "\n",
    "if __name__ == \"__main__\":\n",
    "  main()"
   ]
  },
  {
   "cell_type": "code",
   "execution_count": 25,
   "metadata": {},
   "outputs": [
    {
     "name": "stdout",
     "output_type": "stream",
     "text": [
      "My name is Ujjwal Kakar, I am 18 years old, and my height is 181.5cm\n"
     ]
    }
   ],
   "source": [
    "#Program 2\n",
    "def main():\n",
    "  userName , userAge , userHeight = \"Ujjwal Kakar\" , 18 , \"181.5cm\"\n",
    "  print(f\"My name is {userName}, I am {userAge} years old, and my height is {userHeight}\")\n",
    "\n",
    "if __name__ == \"__main__\":\n",
    "  main()"
   ]
  },
  {
   "cell_type": "code",
   "execution_count": 24,
   "metadata": {},
   "outputs": [
    {
     "name": "stdout",
     "output_type": "stream",
     "text": [
      "My name is hehe], I am 12 years old, and my height is 182cm\n"
     ]
    }
   ],
   "source": [
    "#Program 3\n",
    "def main():\n",
    "  userName , userAge , userHeight = input(\"Enter your Name: \") , input(\"Enter your Age: \") , input(\"Enter your Height: \")\n",
    "  print(f\"My name is {userName}, I am {userAge} years old, and my height is {userHeight}\")\n",
    "\n",
    "if __name__ == \"__main__\":\n",
    "  main()"
   ]
  },
  {
   "cell_type": "code",
   "execution_count": 16,
   "metadata": {},
   "outputs": [
    {
     "name": "stdout",
     "output_type": "stream",
     "text": [
      "User Ujjwal's adult status is True\n"
     ]
    }
   ],
   "source": [
    "def main():\n",
    "  userName , userAge , userHeight = input(\"Enter your Name: \") , input(\"Enter your Age: \") , input(\"Enter your Height: \")\n",
    "  isAdult = lambda age:int(age)>=18\n",
    "  print(f\"User {userName}'s adult status is {isAdult(userAge)}\")\n",
    "\n",
    "if __name__ == \"__main__\":\n",
    "  main()"
   ]
  },
  {
   "cell_type": "code",
   "execution_count": 23,
   "metadata": {},
   "outputs": [
    {
     "name": "stdout",
     "output_type": "stream",
     "text": [
      "The substring 'lya' is in string 'vatsalya' at index 5\n"
     ]
    }
   ],
   "source": [
    "def main():\n",
    "  st , substr = input(\"Enter a String\") , input(\"Enter a substring to find\")\n",
    "  print(f\"The substring '{substr}' is {'' if st.find(substr) else 'not '}in string '{st}' {'at index '+str(st.find(substr)) if st.find(substr) else ''}\")\n",
    "if __name__ ==\"__main__\":\n",
    "  main()"
   ]
  },
  {
   "cell_type": "code",
   "execution_count": 27,
   "metadata": {},
   "outputs": [
    {
     "name": "stdout",
     "output_type": "stream",
     "text": [
      "Multiply:  135\n",
      "Power:  91125\n",
      "Divide:  15.0\n",
      "Floor Divide:  15\n"
     ]
    }
   ],
   "source": [
    "def main():\n",
    "  i1,i2 = int(input(\"Enter Number 1: \") ) , int(input(\"Enter NUmber 2: \"))\n",
    "  print(\"Multiply: \",i1*i2)\n",
    "  print(\"Power: \",i1**i2)\n",
    "  print(\"Divide: \",i1/i2)\n",
    "  print(\"Floor Divide: \",i1//i2)\n",
    "if __name__==\"__main__\":\n",
    "  main()"
   ]
  },
  {
   "cell_type": "code",
   "execution_count": 41,
   "metadata": {},
   "outputs": [
    {
     "name": "stdout",
     "output_type": "stream",
     "text": [
      "[-15, 96, -7, 76, 25, 32, 81, -36, 161, -128]\n",
      "[96, -15, -7, 76, 25, 32, 81, -36, 161, -128]\n"
     ]
    }
   ],
   "source": [
    "def main():\n",
    "  list = [*map(lambda x:(-1)**x * (3*x**2 - 26*x) +41 , range(4,14))]\n",
    "  print(list)\n",
    "  list[0] , list[1] = list[1] , list[0]\n",
    "  print(list)\n",
    "if __name__==\"__main__\":\n",
    "  main()"
   ]
  },
  {
   "cell_type": "markdown",
   "metadata": {},
   "source": [
    "### Day 2"
   ]
  }
 ],
 "metadata": {
  "kernelspec": {
   "display_name": "Python 3",
   "language": "python",
   "name": "python3"
  },
  "language_info": {
   "codemirror_mode": {
    "name": "ipython",
    "version": 3
   },
   "file_extension": ".py",
   "mimetype": "text/x-python",
   "name": "python",
   "nbconvert_exporter": "python",
   "pygments_lexer": "ipython3",
   "version": "3.9.2"
  }
 },
 "nbformat": 4,
 "nbformat_minor": 2
}
