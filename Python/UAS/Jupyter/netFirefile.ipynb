{
 "cells": [
  {
   "cell_type": "markdown",
   "id": "genetic-convention",
   "metadata": {
    "papermill": {
     "duration": 0.040807,
     "end_time": "2021-06-06T21:09:25.545529",
     "exception": false,
     "start_time": "2021-06-06T21:09:25.504722",
     "status": "completed"
    },
    "tags": []
   },
   "source": [
    "# Fire Detection in Images\n",
    "\n",
    "**Description about the dataset:**\n",
    "\n",
    "Data was gathered to train a model to differentiate between photographs of fire and other types of imagery (non-fire images). Data is separated into 2 files, one of which, called non-fireimages, has 244 images of nature and the other, called fireimages, contains 755 photographs of outdoor fires, some of which involve significant smoke (eg: forest, tree, grass, river, people, foggy forest, lake, animal, road, and waterfall).\n",
    "\n",
    "**Objective: To create a classification model that can detect fire in images**\n",
    "\n",
    "**Models used: Sequential CNN from scratch, Pretrained Xception with modifications**"
   ]
  },
  {
   "cell_type": "markdown",
   "id": "afraid-training",
   "metadata": {
    "papermill": {
     "duration": 0.039519,
     "end_time": "2021-06-06T21:09:25.624794",
     "exception": false,
     "start_time": "2021-06-06T21:09:25.585275",
     "status": "completed"
    },
    "tags": []
   },
   "source": [
    "## Exploratory Data Analysis"
   ]
  },
  {
   "cell_type": "code",
   "execution_count": 1,
   "id": "fresh-swiss",
   "metadata": {
    "execution": {
     "iopub.execute_input": "2021-06-06T21:09:25.717328Z",
     "iopub.status.busy": "2021-06-06T21:09:25.716566Z",
     "iopub.status.idle": "2021-06-06T21:09:33.237669Z",
     "shell.execute_reply": "2021-06-06T21:09:33.236584Z",
     "shell.execute_reply.started": "2021-06-06T20:59:28.438219Z"
    },
    "papermill": {
     "duration": 7.573285,
     "end_time": "2021-06-06T21:09:33.237843",
     "exception": false,
     "start_time": "2021-06-06T21:09:25.664558",
     "status": "completed"
    },
    "tags": []
   },
   "outputs": [],
   "source": [
    "#!pip install plotly\n",
    "#!pip install tensorflow\n",
    "\n",
    "import numpy as np\n",
    "import pandas as pd\n",
    "import matplotlib.pyplot as plt\n",
    "import seaborn as sns\n",
    "import plotly.express as px\n",
    "import plotly.graph_objects as go\n",
    "from plotly.subplots import make_subplots\n",
    "import os\n",
    "import tensorflow as tf\n",
    "from tensorflow.keras.preprocessing import image\n",
    "\n",
    "sns.set_style('darkgrid')"
   ]
  },
  {
   "cell_type": "markdown",
   "id": "matched-lightning",
   "metadata": {
    "papermill": {
     "duration": 0.039114,
     "end_time": "2021-06-06T21:09:33.316655",
     "exception": false,
     "start_time": "2021-06-06T21:09:33.277541",
     "status": "completed"
    },
    "tags": []
   },
   "source": [
    "**Let's first create a dataframe that contains the path to each picture and its corresponding label (fire or non fire).**\n",
    "\n",
    "**Reading Paths**"
   ]
  },
  {
   "cell_type": "code",
   "execution_count": 2,
   "id": "solid-guide",
   "metadata": {
    "_cell_guid": "b1076dfc-b9ad-4769-8c92-a6c4dae69d19",
    "_uuid": "8f2839f25d086af736a60e9eeb907d3b93b6e0e5",
    "execution": {
     "iopub.execute_input": "2021-06-06T21:09:33.411101Z",
     "iopub.status.busy": "2021-06-06T21:09:33.410335Z",
     "iopub.status.idle": "2021-06-06T21:09:34.677003Z",
     "shell.execute_reply": "2021-06-06T21:09:34.677529Z",
     "shell.execute_reply.started": "2021-06-06T20:59:28.602103Z"
    },
    "papermill": {
     "duration": 1.320922,
     "end_time": "2021-06-06T21:09:34.677691",
     "exception": false,
     "start_time": "2021-06-06T21:09:33.356769",
     "status": "completed"
    },
    "tags": []
   },
   "outputs": [
    {
     "ename": "AttributeError",
     "evalue": "'DataFrame' object has no attribute 'append'",
     "output_type": "error",
     "traceback": [
      "\u001b[1;31m---------------------------------------------------------------------------\u001b[0m",
      "\u001b[1;31mAttributeError\u001b[0m                            Traceback (most recent call last)",
      "\u001b[1;32m<ipython-input-2-3236d9b87fae>\u001b[0m in \u001b[0;36m<module>\u001b[1;34m\u001b[0m\n\u001b[0;32m      6\u001b[0m     \u001b[1;32mfor\u001b[0m \u001b[0mfilename\u001b[0m \u001b[1;32min\u001b[0m \u001b[0mfilenames\u001b[0m\u001b[1;33m:\u001b[0m\u001b[1;33m\u001b[0m\u001b[1;33m\u001b[0m\u001b[0m\n\u001b[0;32m      7\u001b[0m         \u001b[1;31m#print(os.path.join(dirname, filename))\u001b[0m\u001b[1;33m\u001b[0m\u001b[1;33m\u001b[0m\u001b[1;33m\u001b[0m\u001b[0m\n\u001b[1;32m----> 8\u001b[1;33m         \u001b[0mdf\u001b[0m \u001b[1;33m=\u001b[0m \u001b[0mdf\u001b[0m\u001b[1;33m.\u001b[0m\u001b[0mappend\u001b[0m\u001b[1;33m(\u001b[0m\u001b[0mpd\u001b[0m\u001b[1;33m.\u001b[0m\u001b[0mDataFrame\u001b[0m\u001b[1;33m(\u001b[0m\u001b[1;33m[\u001b[0m\u001b[1;33m[\u001b[0m\u001b[0mos\u001b[0m\u001b[1;33m.\u001b[0m\u001b[0mpath\u001b[0m\u001b[1;33m.\u001b[0m\u001b[0mjoin\u001b[0m\u001b[1;33m(\u001b[0m\u001b[0mdirname\u001b[0m\u001b[1;33m,\u001b[0m \u001b[0mfilename\u001b[0m\u001b[1;33m)\u001b[0m\u001b[1;33m,\u001b[0m\u001b[1;34m'fire'\u001b[0m\u001b[1;33m]\u001b[0m\u001b[1;33m]\u001b[0m\u001b[1;33m,\u001b[0m\u001b[0mcolumns\u001b[0m\u001b[1;33m=\u001b[0m\u001b[1;33m[\u001b[0m\u001b[1;34m'path'\u001b[0m\u001b[1;33m,\u001b[0m\u001b[1;34m'label'\u001b[0m\u001b[1;33m]\u001b[0m\u001b[1;33m)\u001b[0m\u001b[1;33m)\u001b[0m\u001b[1;33m\u001b[0m\u001b[1;33m\u001b[0m\u001b[0m\n\u001b[0m\u001b[0;32m      9\u001b[0m \u001b[1;33m\u001b[0m\u001b[0m\n\u001b[0;32m     10\u001b[0m \u001b[1;31m#loop over non fire images and label them 0\u001b[0m\u001b[1;33m\u001b[0m\u001b[1;33m\u001b[0m\u001b[1;33m\u001b[0m\u001b[0m\n",
      "\u001b[1;32mc:\\Python\\lib\\site-packages\\pandas\\core\\generic.py\u001b[0m in \u001b[0;36m__getattr__\u001b[1;34m(self, name)\u001b[0m\n\u001b[0;32m   5987\u001b[0m         ):\n\u001b[0;32m   5988\u001b[0m             \u001b[1;32mreturn\u001b[0m \u001b[0mself\u001b[0m\u001b[1;33m[\u001b[0m\u001b[0mname\u001b[0m\u001b[1;33m]\u001b[0m\u001b[1;33m\u001b[0m\u001b[1;33m\u001b[0m\u001b[0m\n\u001b[1;32m-> 5989\u001b[1;33m         \u001b[1;32mreturn\u001b[0m \u001b[0mobject\u001b[0m\u001b[1;33m.\u001b[0m\u001b[0m__getattribute__\u001b[0m\u001b[1;33m(\u001b[0m\u001b[0mself\u001b[0m\u001b[1;33m,\u001b[0m \u001b[0mname\u001b[0m\u001b[1;33m)\u001b[0m\u001b[1;33m\u001b[0m\u001b[1;33m\u001b[0m\u001b[0m\n\u001b[0m\u001b[0;32m   5990\u001b[0m \u001b[1;33m\u001b[0m\u001b[0m\n\u001b[0;32m   5991\u001b[0m     \u001b[1;32mdef\u001b[0m \u001b[0m__setattr__\u001b[0m\u001b[1;33m(\u001b[0m\u001b[0mself\u001b[0m\u001b[1;33m,\u001b[0m \u001b[0mname\u001b[0m\u001b[1;33m:\u001b[0m \u001b[0mstr\u001b[0m\u001b[1;33m,\u001b[0m \u001b[0mvalue\u001b[0m\u001b[1;33m)\u001b[0m \u001b[1;33m->\u001b[0m \u001b[1;32mNone\u001b[0m\u001b[1;33m:\u001b[0m\u001b[1;33m\u001b[0m\u001b[1;33m\u001b[0m\u001b[0m\n",
      "\u001b[1;31mAttributeError\u001b[0m: 'DataFrame' object has no attribute 'append'"
     ]
    }
   ],
   "source": [
    "\n",
    "#create an empty DataFrame\n",
    "df = pd.DataFrame(columns=['path','label'])\n",
    "\n",
    "#loop over fire images and label them 1\n",
    "for dirname, _, filenames in os.walk(r'E:\\College\\Journey\\Journey-CollegePrograms\\Python\\UAS\\Jupyter\\Forest Fire Dataset\\Training\\fire'):\n",
    "    for filename in filenames:\n",
    "        #print(os.path.join(dirname, filename))\n",
    "        df = df.append(pd.DataFrame([[os.path.join(dirname, filename),'fire']],columns=['path','label']))\n",
    "\n",
    "#loop over non fire images and label them 0\n",
    "for dirname, _, filenames in os.walk(r'E:\\College\\Journey\\Journey-CollegePrograms\\Python\\UAS\\Jupyter\\Forest Fire Dataset\\Training\\nofire'):\n",
    "    for filename in filenames:\n",
    "        df = df.append(pd.DataFrame([[os.path.join(dirname, filename),'non_fire']],columns=['path','label']))\n",
    "        #print(os.path.join(dirname, filename))\n",
    "\n",
    "#shuffle the dataset for redistribute the labels\n",
    "df = df.sample(frac=1).reset_index(drop=True)\n",
    "df.head(10)"
   ]
  },
  {
   "cell_type": "markdown",
   "id": "earned-prior",
   "metadata": {
    "papermill": {
     "duration": 0.039541,
     "end_time": "2021-06-06T21:09:34.757627",
     "exception": false,
     "start_time": "2021-06-06T21:09:34.718086",
     "status": "completed"
    },
    "tags": []
   },
   "source": [
    "**Great! the dataset has been created. Let's see how well the data is shuffled.**"
   ]
  },
  {
   "cell_type": "code",
   "execution_count": null,
   "id": "sunset-pleasure",
   "metadata": {
    "execution": {
     "iopub.execute_input": "2021-06-06T21:09:34.842558Z",
     "iopub.status.busy": "2021-06-06T21:09:34.841762Z",
     "iopub.status.idle": "2021-06-06T21:09:35.869100Z",
     "shell.execute_reply": "2021-06-06T21:09:35.869890Z",
     "shell.execute_reply.started": "2021-06-06T20:59:29.677951Z"
    },
    "papermill": {
     "duration": 1.072725,
     "end_time": "2021-06-06T21:09:35.870132",
     "exception": false,
     "start_time": "2021-06-06T21:09:34.797407",
     "status": "completed"
    },
    "tags": []
   },
   "outputs": [],
   "source": [
    "fig = px.scatter(data_frame = df,x=df.index,y='label',color='label',title='Distribution of fire and non-fire images along the length of the dataframe')\n",
    "fig.update_traces(marker_size=2)"
   ]
  },
  {
   "cell_type": "markdown",
   "id": "sunrise-costume",
   "metadata": {
    "papermill": {
     "duration": 0.041121,
     "end_time": "2021-06-06T21:09:35.953679",
     "exception": false,
     "start_time": "2021-06-06T21:09:35.912558",
     "status": "completed"
    },
    "tags": []
   },
   "source": [
    "**The shuffling has taken place well.**\n",
    "\n",
    "**Let's visualize the countplot of the data**"
   ]
  },
  {
   "cell_type": "code",
   "execution_count": null,
   "id": "correct-client",
   "metadata": {
    "execution": {
     "iopub.execute_input": "2021-06-06T21:09:36.045551Z",
     "iopub.status.busy": "2021-06-06T21:09:36.044681Z",
     "iopub.status.idle": "2021-06-06T21:09:36.094175Z",
     "shell.execute_reply": "2021-06-06T21:09:36.093556Z",
     "shell.execute_reply.started": "2021-06-06T20:59:29.764037Z"
    },
    "papermill": {
     "duration": 0.099022,
     "end_time": "2021-06-06T21:09:36.094320",
     "exception": false,
     "start_time": "2021-06-06T21:09:35.995298",
     "status": "completed"
    },
    "tags": []
   },
   "outputs": [],
   "source": [
    "fig = make_subplots(rows=1, cols=2, specs=[[{\"type\": \"xy\"}, {\"type\": \"pie\"}]])\n",
    "\n",
    "\n",
    "fig.add_trace(go.Bar(x =df['label'].value_counts().index,y=df['label'].value_counts().to_numpy(),marker_color=['skyblue','green'],showlegend=False),row=1,col=1)\n",
    "\n",
    "fig.add_trace(go.Pie(\n",
    "     values=df['label'].value_counts().to_numpy(),\n",
    "     labels=df['label'].value_counts().index,\n",
    "    marker=dict(colors=['blue','red'])),\n",
    "    row=1, col=2)\n"
   ]
  },
  {
   "cell_type": "markdown",
   "id": "eight-projector",
   "metadata": {
    "papermill": {
     "duration": 0.041747,
     "end_time": "2021-06-06T21:09:36.178939",
     "exception": false,
     "start_time": "2021-06-06T21:09:36.137192",
     "status": "completed"
    },
    "tags": []
   },
   "source": [
    "**Non fire label has less number of images. The dataset is imbalanced**"
   ]
  },
  {
   "cell_type": "markdown",
   "id": "unable-wiring",
   "metadata": {
    "papermill": {
     "duration": 0.042622,
     "end_time": "2021-06-06T21:09:36.265380",
     "exception": false,
     "start_time": "2021-06-06T21:09:36.222758",
     "status": "completed"
    },
    "tags": []
   },
   "source": [
    "## Visualizing the images with fire"
   ]
  },
  {
   "cell_type": "code",
   "execution_count": null,
   "id": "contained-complexity",
   "metadata": {
    "execution": {
     "iopub.execute_input": "2021-06-06T21:09:36.357904Z",
     "iopub.status.busy": "2021-06-06T21:09:36.357256Z",
     "iopub.status.idle": "2021-06-06T21:09:39.239382Z",
     "shell.execute_reply": "2021-06-06T21:09:39.239882Z",
     "shell.execute_reply.started": "2021-06-06T20:59:29.796827Z"
    },
    "papermill": {
     "duration": 2.932364,
     "end_time": "2021-06-06T21:09:39.240050",
     "exception": false,
     "start_time": "2021-06-06T21:09:36.307686",
     "status": "completed"
    },
    "tags": []
   },
   "outputs": [],
   "source": [
    "label = 'fire' #label for images with fire\n",
    "data = df[df['label'] == label]\n",
    "sns.set_style('dark')\n",
    "\n",
    "\n",
    "pics = 6 #set the number of pics\n",
    "fig,ax = plt.subplots(int(pics//2),2,figsize=(15,15))\n",
    "plt.suptitle('Images with Fire')\n",
    "ax = ax.ravel()\n",
    "for i in range((pics//2)*2):\n",
    "    path = data.sample(1).loc[:,'path'].to_numpy()[0]\n",
    "    img = image.load_img(path)\n",
    "    img = image.img_to_array(img)/255\n",
    "    ax[i].imshow(img)\n",
    "    ax[i].axes.xaxis.set_visible(False)\n",
    "    ax[i].axes.yaxis.set_visible(False)"
   ]
  },
  {
   "cell_type": "code",
   "execution_count": null,
   "id": "allied-hometown",
   "metadata": {
    "execution": {
     "iopub.execute_input": "2021-06-06T21:09:39.402930Z",
     "iopub.status.busy": "2021-06-06T21:09:39.402254Z",
     "iopub.status.idle": "2021-06-06T21:09:46.770833Z",
     "shell.execute_reply": "2021-06-06T21:09:46.771338Z",
     "shell.execute_reply.started": "2021-06-06T20:59:31.431907Z"
    },
    "papermill": {
     "duration": 7.465208,
     "end_time": "2021-06-06T21:09:46.771527",
     "exception": false,
     "start_time": "2021-06-06T21:09:39.306319",
     "status": "completed"
    },
    "tags": []
   },
   "outputs": [],
   "source": [
    "label = 'non_fire' #label for images without fire\n",
    "data = df[df['label'] == label]\n",
    "sns.set_style('dark')\n",
    "\n",
    "\n",
    "pics = 6 #set the number of pics\n",
    "fig,ax = plt.subplots(int(pics//2),2,figsize=(15,15))\n",
    "plt.suptitle('Images with Fire')\n",
    "ax = ax.ravel()\n",
    "for i in range((pics//2)*2):\n",
    "    path = data.sample(1).loc[:,'path'].to_numpy()[0]\n",
    "    img = image.load_img(path)\n",
    "    img = image.img_to_array(img)/255\n",
    "    ax[i].imshow(img)\n",
    "    ax[i].axes.xaxis.set_visible(False)\n",
    "    ax[i].axes.yaxis.set_visible(False)"
   ]
  },
  {
   "cell_type": "markdown",
   "id": "banned-inflation",
   "metadata": {
    "papermill": {
     "duration": 0.102661,
     "end_time": "2021-06-06T21:09:46.978039",
     "exception": false,
     "start_time": "2021-06-06T21:09:46.875378",
     "status": "completed"
    },
    "tags": []
   },
   "source": [
    "**As you can see, the sizes of the images are different. Let's visualize the distribution of their shapes**"
   ]
  },
  {
   "cell_type": "code",
   "execution_count": null,
   "id": "imported-nancy",
   "metadata": {
    "execution": {
     "iopub.execute_input": "2021-06-06T21:09:47.184433Z",
     "iopub.status.busy": "2021-06-06T21:09:47.183795Z",
     "iopub.status.idle": "2021-06-06T21:09:59.443068Z",
     "shell.execute_reply": "2021-06-06T21:09:59.442516Z",
     "shell.execute_reply.started": "2021-06-06T20:59:32.909441Z"
    },
    "papermill": {
     "duration": 12.36377,
     "end_time": "2021-06-06T21:09:59.443207",
     "exception": false,
     "start_time": "2021-06-06T21:09:47.079437",
     "status": "completed"
    },
    "tags": []
   },
   "outputs": [],
   "source": [
    "def shaper(row):\n",
    "    shape = image.load_img(row['path']).size\n",
    "    row['height'] = shape[1]\n",
    "    row['width'] = shape[0]\n",
    "    return row\n",
    "df = df.apply(shaper,axis=1)\n",
    "df.head(5)"
   ]
  },
  {
   "cell_type": "markdown",
   "id": "atomic-adobe",
   "metadata": {
    "papermill": {
     "duration": 0.101003,
     "end_time": "2021-06-06T21:09:59.645882",
     "exception": false,
     "start_time": "2021-06-06T21:09:59.544879",
     "status": "completed"
    },
    "tags": []
   },
   "source": [
    "## Visualizing Shape Distribution"
   ]
  },
  {
   "cell_type": "code",
   "execution_count": null,
   "id": "animated-password",
   "metadata": {
    "execution": {
     "iopub.execute_input": "2021-06-06T21:09:59.854899Z",
     "iopub.status.busy": "2021-06-06T21:09:59.854163Z",
     "iopub.status.idle": "2021-06-06T21:10:00.480813Z",
     "shell.execute_reply": "2021-06-06T21:10:00.481262Z",
     "shell.execute_reply.started": "2021-06-06T20:59:36.489654Z"
    },
    "papermill": {
     "duration": 0.733969,
     "end_time": "2021-06-06T21:10:00.481454",
     "exception": false,
     "start_time": "2021-06-06T21:09:59.747485",
     "status": "completed"
    },
    "tags": []
   },
   "outputs": [],
   "source": [
    "sns.set_style('darkgrid')\n",
    "fig,(ax1,ax2,ax3) = plt.subplots(1,3,gridspec_kw={'width_ratios': [3,0.5,0.5]},figsize=(15,10))\n",
    "sns.kdeplot(data=df.drop(columns=['path','label']),ax=ax1,legend=True)\n",
    "sns.boxplot(data=df,y='height',ax=ax2,color='red')\n",
    "sns.boxplot(data=df,y='width',ax=ax3,color='blue')\n",
    "plt.suptitle('Distribution of image shapes')\n",
    "ax3.set_ylim(0,7000)\n",
    "ax2.set_ylim(0,7000)\n",
    "plt.tight_layout()"
   ]
  },
  {
   "cell_type": "markdown",
   "id": "spiritual-prague",
   "metadata": {
    "papermill": {
     "duration": 0.103472,
     "end_time": "2021-06-06T21:10:00.688556",
     "exception": false,
     "start_time": "2021-06-06T21:10:00.585084",
     "status": "completed"
    },
    "tags": []
   },
   "source": [
    "**The height and width of images vary too much. We have to reshape them to a fixed shape before training**\n",
    "\n",
    "## Image Generation or Augmentation"
   ]
  },
  {
   "cell_type": "code",
   "execution_count": null,
   "id": "occupational-replacement",
   "metadata": {
    "execution": {
     "iopub.execute_input": "2021-06-06T21:10:00.905780Z",
     "iopub.status.busy": "2021-06-06T21:10:00.904795Z",
     "iopub.status.idle": "2021-06-06T21:10:00.910246Z",
     "shell.execute_reply": "2021-06-06T21:10:00.909661Z",
     "shell.execute_reply.started": "2021-06-06T20:59:37.430469Z"
    },
    "papermill": {
     "duration": 0.118223,
     "end_time": "2021-06-06T21:10:00.910426",
     "exception": false,
     "start_time": "2021-06-06T21:10:00.792203",
     "status": "completed"
    },
    "tags": []
   },
   "outputs": [],
   "source": [
    "from tensorflow.keras.preprocessing.image import ImageDataGenerator"
   ]
  },
  {
   "cell_type": "code",
   "execution_count": null,
   "id": "measured-large",
   "metadata": {
    "execution": {
     "iopub.execute_input": "2021-06-06T21:10:01.147071Z",
     "iopub.status.busy": "2021-06-06T21:10:01.146087Z",
     "iopub.status.idle": "2021-06-06T21:10:01.150860Z",
     "shell.execute_reply": "2021-06-06T21:10:01.151440Z",
     "shell.execute_reply.started": "2021-06-06T20:59:37.437841Z"
    },
    "papermill": {
     "duration": 0.11731,
     "end_time": "2021-06-06T21:10:01.151612",
     "exception": false,
     "start_time": "2021-06-06T21:10:01.034302",
     "status": "completed"
    },
    "tags": []
   },
   "outputs": [],
   "source": [
    "generator = ImageDataGenerator(\n",
    "    rotation_range= 20,\n",
    "    width_shift_range=0.1,\n",
    "    height_shift_range=0.1,\n",
    "    shear_range = 2,\n",
    "    zoom_range=0.2,\n",
    "    rescale = 1/255,\n",
    "    validation_split=0.2,\n",
    ")"
   ]
  },
  {
   "cell_type": "markdown",
   "id": "linear-obligation",
   "metadata": {
    "papermill": {
     "duration": 0.10676,
     "end_time": "2021-06-06T21:10:01.364889",
     "exception": false,
     "start_time": "2021-06-06T21:10:01.258129",
     "status": "completed"
    },
    "tags": []
   },
   "source": [
    "**Creating the training and test generator**\n",
    "\n",
    "**We will use the flow_from_dataframe method of the ImageDataGenerator class. It will take the path of the images from the dataframe along with their labels. We construct two generators, one for training and the other for validation.**\n",
    "\n",
    "**Note: Our labels are strings 'fire ' and 'non_fire'. Image generator will automatically encode them to integer labels.**"
   ]
  },
  {
   "cell_type": "code",
   "execution_count": null,
   "id": "organizational-queensland",
   "metadata": {
    "execution": {
     "iopub.execute_input": "2021-06-06T21:10:01.582558Z",
     "iopub.status.busy": "2021-06-06T21:10:01.581557Z",
     "iopub.status.idle": "2021-06-06T21:10:01.881207Z",
     "shell.execute_reply": "2021-06-06T21:10:01.880702Z",
     "shell.execute_reply.started": "2021-06-06T20:59:37.452812Z"
    },
    "papermill": {
     "duration": 0.409155,
     "end_time": "2021-06-06T21:10:01.881364",
     "exception": false,
     "start_time": "2021-06-06T21:10:01.472209",
     "status": "completed"
    },
    "tags": []
   },
   "outputs": [],
   "source": [
    "train_gen = generator.flow_from_dataframe(df,x_col='path',y_col='label',images_size=(256,256),class_mode='binary',subset='training')\n",
    "val_gen = generator.flow_from_dataframe(df,x_col='path',y_col='label',images_size=(256,256),class_mode='binary',subset='validation')"
   ]
  },
  {
   "cell_type": "markdown",
   "id": "ordered-matter",
   "metadata": {
    "papermill": {
     "duration": 0.108315,
     "end_time": "2021-06-06T21:10:02.096621",
     "exception": false,
     "start_time": "2021-06-06T21:10:01.988306",
     "status": "completed"
    },
    "tags": []
   },
   "source": [
    "#### Class indices assigned by the Image generator"
   ]
  },
  {
   "cell_type": "code",
   "execution_count": null,
   "id": "cutting-connecticut",
   "metadata": {
    "execution": {
     "iopub.execute_input": "2021-06-06T21:10:02.314245Z",
     "iopub.status.busy": "2021-06-06T21:10:02.313204Z",
     "iopub.status.idle": "2021-06-06T21:10:02.316516Z",
     "shell.execute_reply": "2021-06-06T21:10:02.317015Z",
     "shell.execute_reply.started": "2021-06-06T20:59:37.502852Z"
    },
    "papermill": {
     "duration": 0.115692,
     "end_time": "2021-06-06T21:10:02.317203",
     "exception": false,
     "start_time": "2021-06-06T21:10:02.201511",
     "status": "completed"
    },
    "tags": []
   },
   "outputs": [],
   "source": [
    "class_indices = {}\n",
    "for key in train_gen.class_indices.keys():\n",
    "    class_indices[train_gen.class_indices[key]] = key\n",
    "    \n",
    "print(class_indices)"
   ]
  },
  {
   "cell_type": "markdown",
   "id": "sized-attachment",
   "metadata": {
    "papermill": {
     "duration": 0.108593,
     "end_time": "2021-06-06T21:10:02.531478",
     "exception": false,
     "start_time": "2021-06-06T21:10:02.422885",
     "status": "completed"
    },
    "tags": []
   },
   "source": [
    "**Hence an image predicted 0 will contain fire and 1 won't.**"
   ]
  },
  {
   "cell_type": "markdown",
   "id": "fancy-prison",
   "metadata": {
    "papermill": {
     "duration": 0.104985,
     "end_time": "2021-06-06T21:10:02.742185",
     "exception": false,
     "start_time": "2021-06-06T21:10:02.637200",
     "status": "completed"
    },
    "tags": []
   },
   "source": [
    "## Visualizing the generated images in training set"
   ]
  },
  {
   "cell_type": "code",
   "execution_count": null,
   "id": "forward-ferry",
   "metadata": {
    "execution": {
     "iopub.execute_input": "2021-06-06T21:10:02.979502Z",
     "iopub.status.busy": "2021-06-06T21:10:02.977235Z",
     "iopub.status.idle": "2021-06-06T21:10:13.963704Z",
     "shell.execute_reply": "2021-06-06T21:10:13.964204Z",
     "shell.execute_reply.started": "2021-06-06T20:59:37.51095Z"
    },
    "papermill": {
     "duration": 11.117103,
     "end_time": "2021-06-06T21:10:13.964386",
     "exception": false,
     "start_time": "2021-06-06T21:10:02.847283",
     "status": "completed"
    },
    "tags": []
   },
   "outputs": [],
   "source": [
    "sns.set_style('dark')\n",
    "pics = 6 #set the number of pics\n",
    "fig,ax = plt.subplots(int(pics//2),2,figsize=(15,15))\n",
    "plt.suptitle('Generated images in training set')\n",
    "ax = ax.ravel()\n",
    "for i in range((pics//2)*2):\n",
    "    ax[i].imshow(train_gen[0][0][i])\n",
    "    ax[i].axes.xaxis.set_visible(False)\n",
    "    ax[i].axes.yaxis.set_visible(False)"
   ]
  },
  {
   "cell_type": "markdown",
   "id": "brilliant-greenhouse",
   "metadata": {
    "papermill": {
     "duration": 0.129581,
     "end_time": "2021-06-06T21:10:14.223790",
     "exception": false,
     "start_time": "2021-06-06T21:10:14.094209",
     "status": "completed"
    },
    "tags": []
   },
   "source": [
    "## Creating the model"
   ]
  },
  {
   "cell_type": "code",
   "execution_count": null,
   "id": "introductory-refrigerator",
   "metadata": {
    "execution": {
     "iopub.execute_input": "2021-06-06T21:10:14.489502Z",
     "iopub.status.busy": "2021-06-06T21:10:14.488848Z",
     "iopub.status.idle": "2021-06-06T21:10:14.492376Z",
     "shell.execute_reply": "2021-06-06T21:10:14.492931Z",
     "shell.execute_reply.started": "2021-06-06T20:59:49.450913Z"
    },
    "papermill": {
     "duration": 0.137851,
     "end_time": "2021-06-06T21:10:14.493089",
     "exception": false,
     "start_time": "2021-06-06T21:10:14.355238",
     "status": "completed"
    },
    "tags": []
   },
   "outputs": [],
   "source": [
    "from tensorflow.keras.models import Sequential\n",
    "from tensorflow.keras.layers import Conv2D, MaxPool2D, Flatten, Dense"
   ]
  },
  {
   "cell_type": "code",
   "execution_count": null,
   "id": "encouraging-congo",
   "metadata": {
    "execution": {
     "iopub.execute_input": "2021-06-06T21:10:14.757302Z",
     "iopub.status.busy": "2021-06-06T21:10:14.756689Z",
     "iopub.status.idle": "2021-06-06T21:10:14.936939Z",
     "shell.execute_reply": "2021-06-06T21:10:14.937453Z",
     "shell.execute_reply.started": "2021-06-06T20:59:49.457467Z"
    },
    "papermill": {
     "duration": 0.313917,
     "end_time": "2021-06-06T21:10:14.937646",
     "exception": false,
     "start_time": "2021-06-06T21:10:14.623729",
     "status": "completed"
    },
    "tags": []
   },
   "outputs": [],
   "source": [
    "model = Sequential()\n",
    "model.add(Conv2D(filters=32,kernel_size = (2,2),activation='relu',input_shape = (256,256,3)))\n",
    "model.add(MaxPool2D())\n",
    "model.add(Conv2D(filters=64,kernel_size=(2,2),activation='relu'))\n",
    "model.add(MaxPool2D())\n",
    "model.add(Conv2D(filters=128,kernel_size=(2,2),activation='relu'))\n",
    "model.add(MaxPool2D())\n",
    "model.add(Flatten())\n",
    "model.add(Dense(64,activation='relu'))\n",
    "model.add(Dense(32,activation = 'relu'))\n",
    "model.add(Dense(1,activation = 'sigmoid'))"
   ]
  },
  {
   "cell_type": "markdown",
   "id": "conventional-heating",
   "metadata": {
    "papermill": {
     "duration": 0.130612,
     "end_time": "2021-06-06T21:10:15.198580",
     "exception": false,
     "start_time": "2021-06-06T21:10:15.067968",
     "status": "completed"
    },
    "tags": []
   },
   "source": [
    "**We increase the number of filters as we add more layers because initially there will be a lot of noise present in the input and we only need to capture the important information. Later as we progress through the layers, the feature maps become nuanced and we try to capture them with more filters**  "
   ]
  },
  {
   "cell_type": "markdown",
   "id": "working-texas",
   "metadata": {
    "papermill": {
     "duration": 0.130006,
     "end_time": "2021-06-06T21:10:15.459494",
     "exception": false,
     "start_time": "2021-06-06T21:10:15.329488",
     "status": "completed"
    },
    "tags": []
   },
   "source": [
    "### Model Summary"
   ]
  },
  {
   "cell_type": "code",
   "execution_count": null,
   "id": "beginning-sample",
   "metadata": {
    "execution": {
     "iopub.execute_input": "2021-06-06T21:10:15.724275Z",
     "iopub.status.busy": "2021-06-06T21:10:15.723672Z",
     "iopub.status.idle": "2021-06-06T21:10:15.735266Z",
     "shell.execute_reply": "2021-06-06T21:10:15.734567Z",
     "shell.execute_reply.started": "2021-06-06T20:59:49.608166Z"
    },
    "papermill": {
     "duration": 0.144882,
     "end_time": "2021-06-06T21:10:15.735465",
     "exception": false,
     "start_time": "2021-06-06T21:10:15.590583",
     "status": "completed"
    },
    "tags": []
   },
   "outputs": [],
   "source": [
    "model.summary()"
   ]
  },
  {
   "cell_type": "markdown",
   "id": "sought-storage",
   "metadata": {
    "papermill": {
     "duration": 0.131155,
     "end_time": "2021-06-06T21:10:15.999155",
     "exception": false,
     "start_time": "2021-06-06T21:10:15.868000",
     "status": "completed"
    },
    "tags": []
   },
   "source": [
    "**Compiling the model**"
   ]
  },
  {
   "cell_type": "code",
   "execution_count": null,
   "id": "crucial-palestinian",
   "metadata": {
    "execution": {
     "iopub.execute_input": "2021-06-06T21:10:16.266248Z",
     "iopub.status.busy": "2021-06-06T21:10:16.265621Z",
     "iopub.status.idle": "2021-06-06T21:10:16.267459Z",
     "shell.execute_reply": "2021-06-06T21:10:16.267891Z",
     "shell.execute_reply.started": "2021-06-06T20:59:49.620228Z"
    },
    "papermill": {
     "duration": 0.137624,
     "end_time": "2021-06-06T21:10:16.268048",
     "exception": false,
     "start_time": "2021-06-06T21:10:16.130424",
     "status": "completed"
    },
    "tags": []
   },
   "outputs": [],
   "source": [
    "from tensorflow.keras.metrics import Recall,AUC\n",
    "from tensorflow.keras.utils import plot_model"
   ]
  },
  {
   "cell_type": "code",
   "execution_count": null,
   "id": "musical-primary",
   "metadata": {
    "execution": {
     "iopub.execute_input": "2021-06-06T21:10:16.535977Z",
     "iopub.status.busy": "2021-06-06T21:10:16.535377Z",
     "iopub.status.idle": "2021-06-06T21:10:16.561607Z",
     "shell.execute_reply": "2021-06-06T21:10:16.562127Z",
     "shell.execute_reply.started": "2021-06-06T20:59:49.627479Z"
    },
    "papermill": {
     "duration": 0.16198,
     "end_time": "2021-06-06T21:10:16.562301",
     "exception": false,
     "start_time": "2021-06-06T21:10:16.400321",
     "status": "completed"
    },
    "tags": []
   },
   "outputs": [],
   "source": [
    "model.compile(optimizer='adam',loss='binary_crossentropy',metrics=['accuracy',Recall(),AUC()])"
   ]
  },
  {
   "cell_type": "markdown",
   "id": "rural-factory",
   "metadata": {
    "papermill": {
     "duration": 0.13063,
     "end_time": "2021-06-06T21:10:16.823850",
     "exception": false,
     "start_time": "2021-06-06T21:10:16.693220",
     "status": "completed"
    },
    "tags": []
   },
   "source": [
    "**Defining Callbacks**\n"
   ]
  },
  {
   "cell_type": "code",
   "execution_count": null,
   "id": "stopped-honor",
   "metadata": {
    "execution": {
     "iopub.execute_input": "2021-06-06T21:10:17.092406Z",
     "iopub.status.busy": "2021-06-06T21:10:17.091762Z",
     "iopub.status.idle": "2021-06-06T21:10:17.095403Z",
     "shell.execute_reply": "2021-06-06T21:10:17.095910Z",
     "shell.execute_reply.started": "2021-06-06T20:59:49.664222Z"
    },
    "papermill": {
     "duration": 0.140092,
     "end_time": "2021-06-06T21:10:17.096067",
     "exception": false,
     "start_time": "2021-06-06T21:10:16.955975",
     "status": "completed"
    },
    "tags": []
   },
   "outputs": [],
   "source": [
    "from tensorflow.keras.callbacks import EarlyStopping, ReduceLROnPlateau"
   ]
  },
  {
   "cell_type": "code",
   "execution_count": null,
   "id": "generous-purpose",
   "metadata": {
    "execution": {
     "iopub.execute_input": "2021-06-06T21:10:17.362518Z",
     "iopub.status.busy": "2021-06-06T21:10:17.361863Z",
     "iopub.status.idle": "2021-06-06T21:10:17.365807Z",
     "shell.execute_reply": "2021-06-06T21:10:17.366334Z",
     "shell.execute_reply.started": "2021-06-06T20:59:49.67013Z"
    },
    "papermill": {
     "duration": 0.139694,
     "end_time": "2021-06-06T21:10:17.366515",
     "exception": false,
     "start_time": "2021-06-06T21:10:17.226821",
     "status": "completed"
    },
    "tags": []
   },
   "outputs": [],
   "source": [
    "early_stoppping = EarlyStopping(monitor='val_loss',patience=5,restore_best_weights=True)\n",
    "reduce_lr_on_plateau = ReduceLROnPlateau(monitor='val_loss',factor=0.1,patience=5)"
   ]
  },
  {
   "cell_type": "markdown",
   "id": "injured-contest",
   "metadata": {
    "papermill": {
     "duration": 0.132271,
     "end_time": "2021-06-06T21:10:17.630048",
     "exception": false,
     "start_time": "2021-06-06T21:10:17.497777",
     "status": "completed"
    },
    "tags": []
   },
   "source": [
    "### Model Fitting"
   ]
  },
  {
   "cell_type": "code",
   "execution_count": null,
   "id": "earned-karen",
   "metadata": {
    "_kg_hide-input": false,
    "_kg_hide-output": true,
    "execution": {
     "iopub.execute_input": "2021-06-06T21:10:17.897241Z",
     "iopub.status.busy": "2021-06-06T21:10:17.896591Z",
     "iopub.status.idle": "2021-06-06T21:21:40.143535Z",
     "shell.execute_reply": "2021-06-06T21:21:40.142952Z",
     "shell.execute_reply.started": "2021-06-06T20:59:49.685027Z"
    },
    "papermill": {
     "duration": 682.38185,
     "end_time": "2021-06-06T21:21:40.143715",
     "exception": false,
     "start_time": "2021-06-06T21:10:17.761865",
     "status": "completed"
    },
    "tags": []
   },
   "outputs": [],
   "source": [
    "model.fit(x=train_gen,batch_size=32,epochs=15,validation_data=val_gen,callbacks=[early_stoppping,reduce_lr_on_plateau])"
   ]
  },
  {
   "cell_type": "markdown",
   "id": "august-stevens",
   "metadata": {
    "papermill": {
     "duration": 0.2086,
     "end_time": "2021-06-06T21:21:40.563253",
     "exception": false,
     "start_time": "2021-06-06T21:21:40.354653",
     "status": "completed"
    },
    "tags": []
   },
   "source": [
    "### Model Evaluation\n",
    "\n",
    "**Plotting metrics**"
   ]
  },
  {
   "cell_type": "code",
   "execution_count": null,
   "id": "sticky-philippines",
   "metadata": {
    "execution": {
     "iopub.execute_input": "2021-06-06T21:21:40.991886Z",
     "iopub.status.busy": "2021-06-06T21:21:40.991166Z",
     "iopub.status.idle": "2021-06-06T21:21:41.105105Z",
     "shell.execute_reply": "2021-06-06T21:21:41.104653Z",
     "shell.execute_reply.started": "2021-06-06T21:01:02.623759Z"
    },
    "papermill": {
     "duration": 0.331778,
     "end_time": "2021-06-06T21:21:41.105243",
     "exception": false,
     "start_time": "2021-06-06T21:21:40.773465",
     "status": "completed"
    },
    "tags": []
   },
   "outputs": [],
   "source": [
    "history= model.history.history\n",
    "px.line(history,title = \"Metrics Plot\")"
   ]
  },
  {
   "cell_type": "code",
   "execution_count": null,
   "id": "close-jewelry",
   "metadata": {
    "execution": {
     "iopub.execute_input": "2021-06-06T21:21:41.532269Z",
     "iopub.status.busy": "2021-06-06T21:21:41.531642Z",
     "iopub.status.idle": "2021-06-06T21:21:51.835842Z",
     "shell.execute_reply": "2021-06-06T21:21:51.835210Z",
     "shell.execute_reply.started": "2021-06-06T21:01:02.742106Z"
    },
    "papermill": {
     "duration": 10.520299,
     "end_time": "2021-06-06T21:21:51.835981",
     "exception": false,
     "start_time": "2021-06-06T21:21:41.315682",
     "status": "completed"
    },
    "tags": []
   },
   "outputs": [],
   "source": [
    "eval_list = model.evaluate(val_gen,return_dict=True)\n",
    "for metric in eval_list.keys():\n",
    "    print(metric+f\": {eval_list[metric]:.2f}\")"
   ]
  },
  {
   "cell_type": "markdown",
   "id": "early-honolulu",
   "metadata": {
    "papermill": {
     "duration": 0.215565,
     "end_time": "2021-06-06T21:21:52.269063",
     "exception": false,
     "start_time": "2021-06-06T21:21:52.053498",
     "status": "completed"
    },
    "tags": []
   },
   "source": [
    "## Model creation by transfer learning"
   ]
  },
  {
   "cell_type": "code",
   "execution_count": null,
   "id": "alien-celebration",
   "metadata": {
    "execution": {
     "iopub.execute_input": "2021-06-06T21:21:52.701906Z",
     "iopub.status.busy": "2021-06-06T21:21:52.700859Z",
     "iopub.status.idle": "2021-06-06T21:21:52.703066Z",
     "shell.execute_reply": "2021-06-06T21:21:52.703630Z",
     "shell.execute_reply.started": "2021-06-06T21:01:16.937953Z"
    },
    "papermill": {
     "duration": 0.219539,
     "end_time": "2021-06-06T21:21:52.703781",
     "exception": false,
     "start_time": "2021-06-06T21:21:52.484242",
     "status": "completed"
    },
    "tags": []
   },
   "outputs": [],
   "source": [
    "from tensorflow.keras.applications import Xception\n",
    "from tensorflow.keras.models import Model\n",
    "from tensorflow.keras.layers import Dropout"
   ]
  },
  {
   "cell_type": "code",
   "execution_count": null,
   "id": "accepted-proportion",
   "metadata": {
    "execution": {
     "iopub.execute_input": "2021-06-06T21:21:53.151628Z",
     "iopub.status.busy": "2021-06-06T21:21:53.150644Z",
     "iopub.status.idle": "2021-06-06T21:21:55.650704Z",
     "shell.execute_reply": "2021-06-06T21:21:55.650110Z",
     "shell.execute_reply.started": "2021-06-06T21:01:16.944449Z"
    },
    "papermill": {
     "duration": 2.730363,
     "end_time": "2021-06-06T21:21:55.650858",
     "exception": false,
     "start_time": "2021-06-06T21:21:52.920495",
     "status": "completed"
    },
    "tags": []
   },
   "outputs": [],
   "source": [
    "xception = Xception(include_top = False,input_shape = (256,256,3))\n",
    "input_to_model = xception.input\n",
    "#turn off training\n",
    "xception.trainable = False\n",
    "\n",
    "x = Flatten()(xception.output)\n",
    "x = Dense(64,activation = 'relu')(x)\n",
    "output_to_model = Dense(1,activation = 'sigmoid')(x)\n",
    "model2 = Model(inputs = input_to_model,outputs = output_to_model)"
   ]
  },
  {
   "cell_type": "markdown",
   "id": "detected-italic",
   "metadata": {
    "papermill": {
     "duration": 0.241828,
     "end_time": "2021-06-06T21:21:56.117638",
     "exception": false,
     "start_time": "2021-06-06T21:21:55.875810",
     "status": "completed"
    },
    "tags": []
   },
   "source": [
    "**Compiling the model**"
   ]
  },
  {
   "cell_type": "code",
   "execution_count": null,
   "id": "otherwise-intranet",
   "metadata": {
    "execution": {
     "iopub.execute_input": "2021-06-06T21:21:56.590263Z",
     "iopub.status.busy": "2021-06-06T21:21:56.586650Z",
     "iopub.status.idle": "2021-06-06T21:21:56.604374Z",
     "shell.execute_reply": "2021-06-06T21:21:56.603768Z",
     "shell.execute_reply.started": "2021-06-06T21:01:18.450445Z"
    },
    "papermill": {
     "duration": 0.26881,
     "end_time": "2021-06-06T21:21:56.604517",
     "exception": false,
     "start_time": "2021-06-06T21:21:56.335707",
     "status": "completed"
    },
    "tags": []
   },
   "outputs": [],
   "source": [
    "model2.compile(optimizer = 'adam',loss = 'binary_crossentropy',metrics = ['accuracy',Recall(),AUC()])"
   ]
  },
  {
   "cell_type": "markdown",
   "id": "smoking-lobby",
   "metadata": {
    "papermill": {
     "duration": 0.220282,
     "end_time": "2021-06-06T21:21:57.042435",
     "exception": false,
     "start_time": "2021-06-06T21:21:56.822153",
     "status": "completed"
    },
    "tags": []
   },
   "source": [
    "**Fitting the model**"
   ]
  },
  {
   "cell_type": "code",
   "execution_count": null,
   "id": "synthetic-telescope",
   "metadata": {
    "_kg_hide-output": true,
    "execution": {
     "iopub.execute_input": "2021-06-06T21:21:57.488753Z",
     "iopub.status.busy": "2021-06-06T21:21:57.488142Z",
     "iopub.status.idle": "2021-06-06T21:47:54.550886Z",
     "shell.execute_reply": "2021-06-06T21:47:54.551493Z",
     "shell.execute_reply.started": "2021-06-06T21:01:18.48049Z"
    },
    "papermill": {
     "duration": 1557.289925,
     "end_time": "2021-06-06T21:47:54.551768",
     "exception": false,
     "start_time": "2021-06-06T21:21:57.261843",
     "status": "completed"
    },
    "tags": []
   },
   "outputs": [],
   "source": [
    "history2 = model2.fit(x = train_gen,batch_size=32,epochs=15,callbacks = [early_stoppping,reduce_lr_on_plateau],validation_data = val_gen)"
   ]
  },
  {
   "cell_type": "markdown",
   "id": "grave-technical",
   "metadata": {
    "papermill": {
     "duration": 0.291731,
     "end_time": "2021-06-06T21:47:55.133996",
     "exception": false,
     "start_time": "2021-06-06T21:47:54.842265",
     "status": "completed"
    },
    "tags": []
   },
   "source": [
    "### Model Evaluation"
   ]
  },
  {
   "cell_type": "code",
   "execution_count": null,
   "id": "built-sleeve",
   "metadata": {
    "execution": {
     "iopub.execute_input": "2021-06-06T21:47:55.723609Z",
     "iopub.status.busy": "2021-06-06T21:47:55.722987Z",
     "iopub.status.idle": "2021-06-06T21:47:55.846228Z",
     "shell.execute_reply": "2021-06-06T21:47:55.846811Z",
     "shell.execute_reply.started": "2021-06-06T21:04:16.716737Z"
    },
    "papermill": {
     "duration": 0.419161,
     "end_time": "2021-06-06T21:47:55.846976",
     "exception": false,
     "start_time": "2021-06-06T21:47:55.427815",
     "status": "completed"
    },
    "tags": []
   },
   "outputs": [],
   "source": [
    "px.line(history,title='Metrics Plot')"
   ]
  },
  {
   "cell_type": "code",
   "execution_count": null,
   "id": "demographic-flexibility",
   "metadata": {
    "execution": {
     "iopub.execute_input": "2021-06-06T21:47:56.442852Z",
     "iopub.status.busy": "2021-06-06T21:47:56.442113Z",
     "iopub.status.idle": "2021-06-06T21:48:07.665510Z",
     "shell.execute_reply": "2021-06-06T21:48:07.664906Z",
     "shell.execute_reply.started": "2021-06-06T21:04:16.838083Z"
    },
    "papermill": {
     "duration": 11.518422,
     "end_time": "2021-06-06T21:48:07.665658",
     "exception": false,
     "start_time": "2021-06-06T21:47:56.147236",
     "status": "completed"
    },
    "tags": []
   },
   "outputs": [],
   "source": [
    "eval_list = model.evaluate(val_gen,return_dict=True)\n",
    "for metric in eval_list.keys():\n",
    "    print(metric+f\": {eval_list[metric]:.2f}\")"
   ]
  },
  {
   "cell_type": "markdown",
   "id": "sustainable-bread",
   "metadata": {
    "papermill": {
     "duration": 0.294773,
     "end_time": "2021-06-06T21:48:08.257584",
     "exception": false,
     "start_time": "2021-06-06T21:48:07.962811",
     "status": "completed"
    },
    "tags": []
   },
   "source": [
    "## Example Prediction\n",
    "\n",
    "**Let's use an image of the apartment complex in Texas that caught fire in February 2021.**\n",
    "\n",
    "News link : https://www.nytimes.com/2021/02/19/us/san-antonio-fire-hydrants-water.html"
   ]
  },
  {
   "cell_type": "code",
   "execution_count": null,
   "id": "adjusted-supplier",
   "metadata": {
    "execution": {
     "iopub.execute_input": "2021-06-06T21:48:08.881217Z",
     "iopub.status.busy": "2021-06-06T21:48:08.880537Z",
     "iopub.status.idle": "2021-06-06T21:48:10.930272Z",
     "shell.execute_reply": "2021-06-06T21:48:10.929676Z",
     "shell.execute_reply.started": "2021-06-06T21:04:31.630101Z"
    },
    "papermill": {
     "duration": 2.377111,
     "end_time": "2021-06-06T21:48:10.930434",
     "exception": false,
     "start_time": "2021-06-06T21:48:08.553323",
     "status": "completed"
    },
    "tags": []
   },
   "outputs": [],
   "source": [
    "#Downloading the image\n",
    "!curl https://static01.nyt.com/images/2021/02/19/world/19storm-briefing-texas-fire/19storm-briefing-texas-fire-articleLarge.jpg --output predict.jpg"
   ]
  },
  {
   "cell_type": "markdown",
   "id": "native-contrary",
   "metadata": {
    "papermill": {
     "duration": 0.295895,
     "end_time": "2021-06-06T21:48:11.522306",
     "exception": false,
     "start_time": "2021-06-06T21:48:11.226411",
     "status": "completed"
    },
    "tags": []
   },
   "source": [
    "**Printing the image**"
   ]
  },
  {
   "cell_type": "code",
   "execution_count": null,
   "id": "scenic-childhood",
   "metadata": {
    "execution": {
     "iopub.execute_input": "2021-06-06T21:48:12.123154Z",
     "iopub.status.busy": "2021-06-06T21:48:12.122529Z",
     "iopub.status.idle": "2021-06-06T21:48:12.294047Z",
     "shell.execute_reply": "2021-06-06T21:48:12.294545Z",
     "shell.execute_reply.started": "2021-06-06T21:04:33.580667Z"
    },
    "papermill": {
     "duration": 0.474872,
     "end_time": "2021-06-06T21:48:12.294715",
     "exception": false,
     "start_time": "2021-06-06T21:48:11.819843",
     "status": "completed"
    },
    "tags": []
   },
   "outputs": [],
   "source": [
    "#loading the image\n",
    "img = image.load_img('predict.jpg')\n",
    "img"
   ]
  },
  {
   "cell_type": "markdown",
   "id": "vietnamese-explanation",
   "metadata": {
    "papermill": {
     "duration": 0.303059,
     "end_time": "2021-06-06T21:48:12.904928",
     "exception": false,
     "start_time": "2021-06-06T21:48:12.601869",
     "status": "completed"
    },
    "tags": []
   },
   "source": [
    "**Resizing the image and expanding its dimension to include the batch size - 1**"
   ]
  },
  {
   "cell_type": "code",
   "execution_count": null,
   "id": "cubic-native",
   "metadata": {
    "execution": {
     "iopub.execute_input": "2021-06-06T21:48:13.524619Z",
     "iopub.status.busy": "2021-06-06T21:48:13.523944Z",
     "iopub.status.idle": "2021-06-06T21:48:13.532691Z",
     "shell.execute_reply": "2021-06-06T21:48:13.533262Z",
     "shell.execute_reply.started": "2021-06-06T21:04:33.757805Z"
    },
    "papermill": {
     "duration": 0.321948,
     "end_time": "2021-06-06T21:48:13.533441",
     "exception": false,
     "start_time": "2021-06-06T21:48:13.211493",
     "status": "completed"
    },
    "tags": []
   },
   "outputs": [],
   "source": [
    "img = image.img_to_array(img)/255\n",
    "img = tf.image.resize(img,(256,256))\n",
    "img = tf.expand_dims(img,axis=0)\n",
    "\n",
    "print(\"Image Shape\",img.shape)"
   ]
  },
  {
   "cell_type": "markdown",
   "id": "detailed-snowboard",
   "metadata": {
    "papermill": {
     "duration": 0.307227,
     "end_time": "2021-06-06T21:48:14.146717",
     "exception": false,
     "start_time": "2021-06-06T21:48:13.839490",
     "status": "completed"
    },
    "tags": []
   },
   "source": [
    "**Prediction**"
   ]
  },
  {
   "cell_type": "code",
   "execution_count": null,
   "id": "regular-museum",
   "metadata": {
    "execution": {
     "iopub.execute_input": "2021-06-06T21:48:14.765277Z",
     "iopub.status.busy": "2021-06-06T21:48:14.764685Z",
     "iopub.status.idle": "2021-06-06T21:48:15.665630Z",
     "shell.execute_reply": "2021-06-06T21:48:15.664932Z",
     "shell.execute_reply.started": "2021-06-06T21:04:33.7717Z"
    },
    "papermill": {
     "duration": 1.212542,
     "end_time": "2021-06-06T21:48:15.665786",
     "exception": false,
     "start_time": "2021-06-06T21:48:14.453244",
     "status": "completed"
    },
    "tags": []
   },
   "outputs": [],
   "source": [
    "prediction = int(tf.round(model2.predict(x=img)).numpy()[0][0])\n",
    "print(\"The predicted value is: \",prediction,\"and the predicted label is:\",class_indices[prediction])"
   ]
  },
  {
   "cell_type": "markdown",
   "id": "fleet-clock",
   "metadata": {
    "papermill": {
     "duration": 0.307938,
     "end_time": "2021-06-06T21:48:16.283430",
     "exception": false,
     "start_time": "2021-06-06T21:48:15.975492",
     "status": "completed"
    },
    "tags": []
   },
   "source": []
  },
  {
   "cell_type": "code",
   "execution_count": null,
   "id": "9dbda8d9",
   "metadata": {},
   "outputs": [],
   "source": []
  },
  {
   "cell_type": "code",
   "execution_count": null,
   "id": "ac18392d",
   "metadata": {},
   "outputs": [],
   "source": []
  },
  {
   "cell_type": "code",
   "execution_count": null,
   "id": "9c1ce344",
   "metadata": {},
   "outputs": [],
   "source": []
  }
 ],
 "metadata": {
  "kernelspec": {
   "display_name": "Python 3 (ipykernel)",
   "language": "python",
   "name": "python3"
  },
  "language_info": {
   "codemirror_mode": {
    "name": "ipython",
    "version": 3
   },
   "file_extension": ".py",
   "mimetype": "text/x-python",
   "name": "python",
   "nbconvert_exporter": "python",
   "pygments_lexer": "ipython3",
   "version": "3.9.2"
  },
  "papermill": {
   "default_parameters": {},
   "duration": 2340.996587,
   "end_time": "2021-06-06T21:48:18.595877",
   "environment_variables": {},
   "exception": null,
   "input_path": "__notebook__.ipynb",
   "output_path": "__notebook__.ipynb",
   "parameters": {},
   "start_time": "2021-06-06T21:09:17.599290",
   "version": "2.3.3"
  }
 },
 "nbformat": 4,
 "nbformat_minor": 5
}
